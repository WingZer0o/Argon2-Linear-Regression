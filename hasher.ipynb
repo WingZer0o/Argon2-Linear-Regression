{
 "cells": [
  {
   "cell_type": "code",
   "execution_count": 16,
   "metadata": {},
   "outputs": [],
   "source": [
    "from argon2 import PasswordHasher\n",
    "from datetime import datetime\n",
    "\n",
    "ph = PasswordHasher()\n",
    "file = open(\"hash_data.csv\", \"w\")\n",
    "file.truncate()\n",
    "file.write(\"time,iterations\")\n",
    "file.write(\"\\n\")\n",
    "for i in range(500):\n",
    "    start = datetime.now()\n",
    "    hash = ph.hash(\"This is the hash that I want to create\")\n",
    "    end = datetime.now()\n",
    "    diff = end - start\n",
    "    file.write(str(diff))\n",
    "    file.write(\",\")\n",
    "    file.write(str(i + 1))\n",
    "    file.write(\"\\n\")\n",
    "file.close()\n"
   ]
  }
 ],
 "metadata": {
  "kernelspec": {
   "display_name": "Python 3",
   "language": "python",
   "name": "python3"
  },
  "language_info": {
   "codemirror_mode": {
    "name": "ipython",
    "version": 3
   },
   "file_extension": ".py",
   "mimetype": "text/x-python",
   "name": "python",
   "nbconvert_exporter": "python",
   "pygments_lexer": "ipython3",
   "version": "3.12.1"
  }
 },
 "nbformat": 4,
 "nbformat_minor": 2
}
